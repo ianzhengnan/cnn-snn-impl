{
 "cells": [
  {
   "cell_type": "code",
   "execution_count": 1,
   "metadata": {},
   "outputs": [
    {
     "name": "stdout",
     "output_type": "stream",
     "text": [
      "['batches.meta', 'data_batch_1', 'data_batch_2', 'data_batch_3', 'data_batch_4', 'data_batch_5', 'readme.html', 'test_batch']\n"
     ]
    }
   ],
   "source": [
    "import tensorflow as tf\n",
    "import os\n",
    "import _pickle as cPickle\n",
    "import numpy as np\n",
    "\n",
    "CIFAR_DIR = \"C:\\\\Users\\\\i076453\\\\Downloads\\\\tech\\\\ml\\\\cifar-10-batches-py\"\n",
    "print(os.listdir(CIFAR_DIR))"
   ]
  },
  {
   "cell_type": "code",
   "execution_count": 2,
   "metadata": {},
   "outputs": [
    {
     "name": "stdout",
     "output_type": "stream",
     "text": [
      "(50000, 3072)\n",
      "(50000,)\n",
      "(10000, 3072)\n",
      "(10000,)\n"
     ]
    }
   ],
   "source": [
    "def load_data(filename):\n",
    "    \"\"\" read data from data file \"\"\"\n",
    "    with open(filename, 'rb') as f:\n",
    "        data = cPickle.load(f, encoding='bytes')\n",
    "        return data[b'data'], data[b'labels']\n",
    "\n",
    "# tensorflow.dataset\n",
    "class CifarData:\n",
    "    def __init__(self, filenames, need_shuffle):\n",
    "        all_data = []\n",
    "        all_labels = []\n",
    "        for filename in filenames:\n",
    "            data, labels = load_data(filename)\n",
    "            all_data.append(data)     # 不做filter, 将所有的数据都加载\n",
    "            all_labels.append(labels)\n",
    "        self._data = np.vstack(all_data)  # 纵向合并成\n",
    "        self._data = self._data / 127.5 - 1 # 进行归一化 \n",
    "            \n",
    "        self._labels = np.hstack(all_labels) # 横向合并\n",
    "        \n",
    "        print(self._data.shape)\n",
    "        print(self._labels.shape)\n",
    "        \n",
    "        self._num_examples = self._data.shape[0]\n",
    "        self._need_shuffle = need_shuffle\n",
    "        self._indicator = 0\n",
    "        if self._need_shuffle:\n",
    "            self._shuffle_data()\n",
    "        \n",
    "    def _shuffle_data(self):\n",
    "        # [0,1,2,3,4,5] -> [5,3,2,4,0,1]\n",
    "        p = np.random.permutation(self._num_examples)\n",
    "        self._data = self._data[p]\n",
    "        self._labels = self._labels[p]\n",
    "    \n",
    "    def next_batch(self, batch_size):\n",
    "        \"\"\"return batch_size examples as a batch\"\"\"\n",
    "        end_indicator = self._indicator + batch_size\n",
    "        if end_indicator > self._num_examples:\n",
    "            if self._need_shuffle:\n",
    "                self._shuffle_data()\n",
    "                self._indicator = 0\n",
    "                end_indicator = batch_size\n",
    "            else:\n",
    "                raise Exception(\"have no more examples\")\n",
    "        \n",
    "        if end_indicator > self._num_examples:\n",
    "            raise Exception(\"batch size is larger than all examples\")\n",
    "        batch_data = self._data[self._indicator: end_indicator]\n",
    "        batch_labels = self._labels[self._indicator: end_indicator]\n",
    "        self._indicator = end_indicator\n",
    "        return batch_data, batch_labels\n",
    "    \n",
    "train_filenames = [os.path.join(CIFAR_DIR, 'data_batch_%d' % i) for i in range(1, 6)] \n",
    "test_filenames = [os.path.join(CIFAR_DIR, 'test_batch')]\n",
    "\n",
    "train_data = CifarData(train_filenames, True)\n",
    "test_data = CifarData(test_filenames, False)\n",
    "\n",
    "# batch_data, batch_labels = train_data.next_batch(10)\n",
    "# print(batch_data)\n",
    "# print(batch_labels)"
   ]
  },
  {
   "cell_type": "code",
   "execution_count": 3,
   "metadata": {},
   "outputs": [
    {
     "name": "stdout",
     "output_type": "stream",
     "text": [
      "WARNING:tensorflow:From c:\\users\\i076453\\envs\\learn-tensorflow\\lib\\site-packages\\tensorflow\\python\\framework\\op_def_library.py:263: colocate_with (from tensorflow.python.framework.ops) is deprecated and will be removed in a future version.\n",
      "Instructions for updating:\n",
      "Colocations handled automatically by placer.\n",
      "WARNING:tensorflow:From c:\\users\\i076453\\envs\\learn-tensorflow\\lib\\site-packages\\tensorflow\\python\\ops\\losses\\losses_impl.py:209: to_float (from tensorflow.python.ops.math_ops) is deprecated and will be removed in a future version.\n",
      "Instructions for updating:\n",
      "Use tf.cast instead.\n"
     ]
    }
   ],
   "source": [
    "x = tf.placeholder(tf.float32, [None, 3072]) # data 的placeholder, None表示不确定的\n",
    "\n",
    "# y的shape是 [0.6,5,3]\n",
    "y = tf.placeholder(tf.int64, [None]) # labels的placeholder\n",
    "# (3072, 10)\n",
    "w = tf.get_variable('w', [x.get_shape()[-1], 10],\n",
    "                    initializer=tf.random_normal_initializer(0,1))   # 这里从1修改为10\n",
    "# (10, )\n",
    "b = tf.get_variable('b', [10], \n",
    "                   initializer=tf.constant_initializer(0.0))\n",
    "# [None, 3071] * [3072, 10] = [None, 10]\n",
    "y_ = tf.matmul(x, w) + b\n",
    "\n",
    "# mean square loss 平方差交叉函数\n",
    "\"\"\"\n",
    "# course: 1+ e^x\n",
    "# api: e^x / sum(e^x)\n",
    "# [[0.01, 0.09,... 0.03], []]\n",
    "p_y = tf.nn.softmax(y_)\n",
    "# 5 -> [0,0,0,0,0,1,0,0,0,0]\n",
    "y_one_hot = tf.one_hot(y, 10, dtype=tf.float32)\n",
    "# 还是用平方差来求解，而不是交叉熵\n",
    "loss = tf.reduce_mean(tf.square(y_one_hot - p_y))\n",
    "\"\"\"\n",
    "# 交叉熵\n",
    "loss = tf.losses.sparse_softmax_cross_entropy(labels=y, logits=y_)\n",
    "# 它做了下面三件事\n",
    "# y_ -> softmax\n",
    "# y -> one hot\n",
    "# loss = ylogy_\n",
    "\n",
    "# bool \n",
    "predict = tf.argmax(y_, 1) # 在第二个维度求最大值\n",
    "\n",
    "# [1,0,0,1,0,0,1,1...]\n",
    "correct_predict = tf.equal(predict, y)\n",
    "\n",
    "# 准确率\n",
    "accuracy = tf.reduce_mean(tf.cast(correct_predict, tf.float64))\n",
    "\n",
    "# 有了loss目标函数和准确率后，再去做一个\n",
    "# AdamOptimizer 是一个剔除向量的变种，1e-3就是10的-3次方0.001 \n",
    "with tf.name_scope('train_op'):\n",
    "    train_op = tf.train.AdamOptimizer(1e-3).minimize(loss)\n"
   ]
  },
  {
   "cell_type": "code",
   "execution_count": 4,
   "metadata": {},
   "outputs": [
    {
     "name": "stdout",
     "output_type": "stream",
     "text": [
      "[Train] Step: 500, loss: 20.99282, acc: 0.15000\n",
      "[Train] Step: 1000, loss: 17.96407, acc: 0.25000\n",
      "[Train] Step: 1500, loss: 9.75291, acc: 0.25000\n",
      "[Train] Step: 2000, loss: 13.38364, acc: 0.15000\n",
      "[Train] Step: 2500, loss: 10.37234, acc: 0.20000\n",
      "[Train] Step: 3000, loss: 12.88054, acc: 0.20000\n",
      "[Train] Step: 3500, loss: 5.72834, acc: 0.30000\n",
      "[Train] Step: 4000, loss: 8.51628, acc: 0.35000\n",
      "[Train] Step: 4500, loss: 7.09195, acc: 0.25000\n",
      "[Train] Step: 5000, loss: 7.53508, acc: 0.35000\n",
      "(10000, 3072)\n",
      "(10000,)\n",
      "[Test] Step: 5000, acc: 0.25900\n",
      "[Train] Step: 5500, loss: 7.38133, acc: 0.25000\n",
      "[Train] Step: 6000, loss: 6.52366, acc: 0.20000\n",
      "[Train] Step: 6500, loss: 6.95883, acc: 0.25000\n",
      "[Train] Step: 7000, loss: 4.96340, acc: 0.30000\n",
      "[Train] Step: 7500, loss: 6.01076, acc: 0.30000\n",
      "[Train] Step: 8000, loss: 4.79835, acc: 0.30000\n",
      "[Train] Step: 8500, loss: 6.36990, acc: 0.20000\n",
      "[Train] Step: 9000, loss: 3.58377, acc: 0.45000\n",
      "[Train] Step: 9500, loss: 3.86228, acc: 0.40000\n",
      "[Train] Step: 10000, loss: 7.03985, acc: 0.20000\n",
      "(10000, 3072)\n",
      "(10000,)\n",
      "[Test] Step: 10000, acc: 0.28350\n"
     ]
    }
   ],
   "source": [
    "init = tf.global_variables_initializer()\n",
    "batch_size = 20\n",
    "train_steps = 10000\n",
    "test_steps = 100\n",
    "\n",
    "with tf.Session() as sess:\n",
    "    sess.run(init)\n",
    "    for i in range(train_steps):\n",
    "        batch_data, batch_labels = train_data.next_batch(batch_size)\n",
    "        loss_val, acc_val, _ = sess.run(\n",
    "            [loss, accuracy, train_op],\n",
    "            feed_dict = {\n",
    "                x: batch_data,\n",
    "                y: batch_labels\n",
    "            }\n",
    "        )\n",
    "        if (i+1) % 500 == 0:\n",
    "            print('[Train] Step: %d, loss: %4.5f, acc: %4.5f' \\\n",
    "                % (i+1, loss_val, acc_val))\n",
    "        if (i+1) % 5000 == 0:\n",
    "            test_data = CifarData(test_filenames, False)\n",
    "            all_test_acc_val = []\n",
    "            for j in range(test_steps):\n",
    "                test_batch_data, test_batch_labels \\\n",
    "                    = test_data.next_batch(batch_size) \n",
    "                test_acc_val = sess.run(\n",
    "                    [accuracy],\n",
    "                    feed_dict = {\n",
    "                        x: test_batch_data,\n",
    "                        y: test_batch_labels\n",
    "                    }\n",
    "                )\n",
    "                all_test_acc_val.append(test_acc_val)\n",
    "            test_acc = np.mean(all_test_acc_val)\n",
    "            print('[Test] Step: %d, acc: %4.5f' % (i+1, test_acc))"
   ]
  },
  {
   "cell_type": "code",
   "execution_count": null,
   "metadata": {},
   "outputs": [],
   "source": []
  }
 ],
 "metadata": {
  "kernelspec": {
   "display_name": "Python 3",
   "language": "python",
   "name": "python3"
  },
  "language_info": {
   "codemirror_mode": {
    "name": "ipython",
    "version": 3
   },
   "file_extension": ".py",
   "mimetype": "text/x-python",
   "name": "python",
   "nbconvert_exporter": "python",
   "pygments_lexer": "ipython3",
   "version": "3.7.3"
  }
 },
 "nbformat": 4,
 "nbformat_minor": 2
}
