{
 "cells": [
  {
   "cell_type": "code",
   "execution_count": null,
   "metadata": {},
   "outputs": [],
   "source": [
    "# 步骤如下：\n",
    "# a) 分词\n",
    "# b) 词语-> id\n",
    "# matrix -> [ v, embed_size ]\n",
    "# 词语A -> id(5)\n",
    "# 词表\n",
    "# c) label -> id\n",
    "\n",
    "import sys\n",
    "import os\n",
    "import jieba  # pip install jieba\n",
    "\n",
    "# input file\n",
    "train_file = './cnews_data/cnews.train.txt'\n",
    "val_file = './cnews_data/cnews.val.txt'\n",
    "test_file = './cnews_data/cnews.test.txt'\n",
    "\n",
    "# output file\n",
    "seg_train_file = './cnews_data/cnews.train.seg.txt'\n",
    "seg_val_file = './cnews_data/cnews.val.seg.txt'\n",
    "seg_test_file = './cnews_data/cnews.test.seg.txt'\n",
    "\n",
    "vocab_file = './cnews_data/cnews.vocab.txt'\n",
    "category_file = './cnews_data/cnews.category.txt'\n",
    "\n",
    "\n"
   ]
  }
 ],
 "metadata": {
  "kernelspec": {
   "display_name": "Python 3",
   "language": "python",
   "name": "python3"
  },
  "language_info": {
   "codemirror_mode": {
    "name": "ipython",
    "version": 3
   },
   "file_extension": ".py",
   "mimetype": "text/x-python",
   "name": "python",
   "nbconvert_exporter": "python",
   "pygments_lexer": "ipython3",
   "version": "3.7.3"
  }
 },
 "nbformat": 4,
 "nbformat_minor": 2
}
