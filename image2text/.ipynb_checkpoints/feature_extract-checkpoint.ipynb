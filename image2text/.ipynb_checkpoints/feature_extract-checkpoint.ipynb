{
 "cells": [
  {
   "cell_type": "code",
   "execution_count": 1,
   "metadata": {},
   "outputs": [
    {
     "name": "stdout",
     "output_type": "stream",
     "text": [
      "INFO:tensorflow:num of all images: 31783\n",
      "['1000092795.jpg',\n",
      " '10002456.jpg',\n",
      " '1000268201.jpg',\n",
      " '1000344755.jpg',\n",
      " '1000366164.jpg',\n",
      " '1000523639.jpg',\n",
      " '1000919630.jpg',\n",
      " '10010052.jpg',\n",
      " '1001465944.jpg',\n",
      " '1001545525.jpg']\n",
      "['A child in a pink dress is climbing up a set of stairs in an entry way .',\n",
      " 'A little girl in a pink dress going into a wooden cabin .',\n",
      " 'A little girl climbing the stairs to her playhouse .',\n",
      " 'A little girl climbing into a wooden playhouse .',\n",
      " 'A girl going into a wooden building .']\n"
     ]
    }
   ],
   "source": [
    "import sys\n",
    "import os\n",
    "import tensorflow as tf\n",
    "from tensorflow import gfile\n",
    "from tensorflow import logging\n",
    "import _pickle as cPickle\n",
    "import numpy as np\n",
    "import pprint\n",
    "\n",
    "model_file = './data/checkpoint_inception_v3/inception_v3_graph_def.pb'\n",
    "input_description_file = './data/results.token' # 从这里获取每个文件的文件名\n",
    "input_img_dir = './data/flickr30k-images/'\n",
    "output_folder = './data/download_inpcetion_v3_features/'\n",
    "\n",
    "batch_size = 1000 # 每个子文件中有1000张图片\n",
    "\n",
    "if not gfile.Exists(output_folder):\n",
    "    gfile.MakeDirs(output_folder)\n",
    "\n",
    "def parse_token_file(token_file):\n",
    "    \"\"\"parse image description file\"\"\"\n",
    "    img_name_to_tokens = {}\n",
    "    with gfile.GFile(token_file, 'r') as f:\n",
    "        lines = f.readlines()\n",
    "    \n",
    "    for line in lines:\n",
    "        img_id, description = line.strip('\\r\\n').split('\\t')\n",
    "        image_name, _ = img_id.split('#')\n",
    "        img_name_to_tokens.setdefault(image_name, [])\n",
    "        img_name_to_tokens[image_name].append(description)\n",
    "    return img_name_to_tokens\n",
    "\n",
    "img_name_to_tokens = parse_token_file(input_description_file)\n",
    "all_img_names = img_name_to_tokens.keys()\n",
    "\n",
    "logging.info('num of all images: %d' % len(all_img_names))\n",
    "pprint.pprint(list(all_img_names)[0:10])\n",
    "pprint.pprint(img_name_to_tokens['1000268201.jpg'])\n",
    "\n"
   ]
  },
  {
   "cell_type": "code",
   "execution_count": 2,
   "metadata": {},
   "outputs": [],
   "source": [
    "def load_pretrained_inception_v3(model_file):\n",
    "    with gfile.GFile(model_file, 'rb') as f:\n",
    "        # 建立一个空的计算图\n",
    "        graph_def = tf.GraphDef()\n",
    "        graph_def.ParseFromString(f.read())\n",
    "        _ = tf.import_graph_def(graph_def, name = \"\")\n",
    "\n",
    "load_pretrained_inception_v3(model_file)"
   ]
  },
  {
   "cell_type": "code",
   "execution_count": 5,
   "metadata": {},
   "outputs": [
    {
     "name": "stdout",
     "output_type": "stream",
     "text": [
      "INFO:tensorflow:num_batches is 32\n",
      "INFO:tensorflow:processing img 1\n",
      "INFO:tensorflow:processing img 3\n",
      "INFO:tensorflow:processing img 1\n",
      "INFO:tensorflow:processing img 4\n",
      "INFO:tensorflow:processing img 2\n",
      "INFO:tensorflow:processing img 3\n",
      "INFO:tensorflow:processing img 1\n",
      "INFO:tensorflow:processing img 4\n",
      "INFO:tensorflow:processing img 1\n",
      "INFO:tensorflow:processing img 8\n",
      "INFO:tensorflow:processing img .\n",
      "./data/flickr30k-images/.\n"
     ]
    },
    {
     "ename": "UnknownError",
     "evalue": "NewRandomAccessFile failed to Create/Open: ./data/flickr30k-images/. : Access is denied.\r\n; Input/output error",
     "output_type": "error",
     "traceback": [
      "\u001b[1;31m---------------------------------------------------------------------------\u001b[0m",
      "\u001b[1;31mUnknownError\u001b[0m                              Traceback (most recent call last)",
      "\u001b[1;32m<ipython-input-5-2f4d9570ea07>\u001b[0m in \u001b[0;36m<module>\u001b[1;34m\u001b[0m\n\u001b[0;32m     16\u001b[0m                 \u001b[1;32mcontinue\u001b[0m\u001b[1;33m\u001b[0m\u001b[1;33m\u001b[0m\u001b[0m\n\u001b[0;32m     17\u001b[0m             \u001b[0mprint\u001b[0m\u001b[1;33m(\u001b[0m\u001b[0mimg_path\u001b[0m\u001b[1;33m)\u001b[0m\u001b[1;33m\u001b[0m\u001b[1;33m\u001b[0m\u001b[0m\n\u001b[1;32m---> 18\u001b[1;33m             \u001b[0mimg_data\u001b[0m \u001b[1;33m=\u001b[0m \u001b[0mgfile\u001b[0m\u001b[1;33m.\u001b[0m\u001b[0mGFile\u001b[0m\u001b[1;33m(\u001b[0m\u001b[0mimg_path\u001b[0m\u001b[1;33m,\u001b[0m \u001b[1;34m'rb'\u001b[0m\u001b[1;33m)\u001b[0m\u001b[1;33m.\u001b[0m\u001b[0mread\u001b[0m\u001b[1;33m(\u001b[0m\u001b[1;33m)\u001b[0m\u001b[1;33m\u001b[0m\u001b[1;33m\u001b[0m\u001b[0m\n\u001b[0m\u001b[0;32m     19\u001b[0m             feature_vector = sess.run(second_to_last_tensor, \n\u001b[0;32m     20\u001b[0m                                      feed_dict = {\n",
      "\u001b[1;32mc:\\users\\i076453\\envs\\learn-tensorflow\\lib\\site-packages\\tensorflow\\python\\lib\\io\\file_io.py\u001b[0m in \u001b[0;36mread\u001b[1;34m(self, n)\u001b[0m\n\u001b[0;32m    123\u001b[0m       \u001b[0mstring\u001b[0m \u001b[1;32mif\u001b[0m \u001b[1;32min\u001b[0m \u001b[0mstring\u001b[0m \u001b[1;33m(\u001b[0m\u001b[0mregular\u001b[0m\u001b[1;33m)\u001b[0m \u001b[0mmode\u001b[0m\u001b[1;33m.\u001b[0m\u001b[1;33m\u001b[0m\u001b[1;33m\u001b[0m\u001b[0m\n\u001b[0;32m    124\u001b[0m     \"\"\"\n\u001b[1;32m--> 125\u001b[1;33m     \u001b[0mself\u001b[0m\u001b[1;33m.\u001b[0m\u001b[0m_preread_check\u001b[0m\u001b[1;33m(\u001b[0m\u001b[1;33m)\u001b[0m\u001b[1;33m\u001b[0m\u001b[1;33m\u001b[0m\u001b[0m\n\u001b[0m\u001b[0;32m    126\u001b[0m     \u001b[1;32mwith\u001b[0m \u001b[0merrors\u001b[0m\u001b[1;33m.\u001b[0m\u001b[0mraise_exception_on_not_ok_status\u001b[0m\u001b[1;33m(\u001b[0m\u001b[1;33m)\u001b[0m \u001b[1;32mas\u001b[0m \u001b[0mstatus\u001b[0m\u001b[1;33m:\u001b[0m\u001b[1;33m\u001b[0m\u001b[1;33m\u001b[0m\u001b[0m\n\u001b[0;32m    127\u001b[0m       \u001b[1;32mif\u001b[0m \u001b[0mn\u001b[0m \u001b[1;33m==\u001b[0m \u001b[1;33m-\u001b[0m\u001b[1;36m1\u001b[0m\u001b[1;33m:\u001b[0m\u001b[1;33m\u001b[0m\u001b[1;33m\u001b[0m\u001b[0m\n",
      "\u001b[1;32mc:\\users\\i076453\\envs\\learn-tensorflow\\lib\\site-packages\\tensorflow\\python\\lib\\io\\file_io.py\u001b[0m in \u001b[0;36m_preread_check\u001b[1;34m(self)\u001b[0m\n\u001b[0;32m     83\u001b[0m       \u001b[1;32mwith\u001b[0m \u001b[0merrors\u001b[0m\u001b[1;33m.\u001b[0m\u001b[0mraise_exception_on_not_ok_status\u001b[0m\u001b[1;33m(\u001b[0m\u001b[1;33m)\u001b[0m \u001b[1;32mas\u001b[0m \u001b[0mstatus\u001b[0m\u001b[1;33m:\u001b[0m\u001b[1;33m\u001b[0m\u001b[1;33m\u001b[0m\u001b[0m\n\u001b[0;32m     84\u001b[0m         self._read_buf = pywrap_tensorflow.CreateBufferedInputStream(\n\u001b[1;32m---> 85\u001b[1;33m             compat.as_bytes(self.__name), 1024 * 512, status)\n\u001b[0m\u001b[0;32m     86\u001b[0m \u001b[1;33m\u001b[0m\u001b[0m\n\u001b[0;32m     87\u001b[0m   \u001b[1;32mdef\u001b[0m \u001b[0m_prewrite_check\u001b[0m\u001b[1;33m(\u001b[0m\u001b[0mself\u001b[0m\u001b[1;33m)\u001b[0m\u001b[1;33m:\u001b[0m\u001b[1;33m\u001b[0m\u001b[1;33m\u001b[0m\u001b[0m\n",
      "\u001b[1;32mc:\\users\\i076453\\envs\\learn-tensorflow\\lib\\site-packages\\tensorflow\\python\\framework\\errors_impl.py\u001b[0m in \u001b[0;36m__exit__\u001b[1;34m(self, type_arg, value_arg, traceback_arg)\u001b[0m\n\u001b[0;32m    526\u001b[0m             \u001b[1;32mNone\u001b[0m\u001b[1;33m,\u001b[0m \u001b[1;32mNone\u001b[0m\u001b[1;33m,\u001b[0m\u001b[1;33m\u001b[0m\u001b[1;33m\u001b[0m\u001b[0m\n\u001b[0;32m    527\u001b[0m             \u001b[0mcompat\u001b[0m\u001b[1;33m.\u001b[0m\u001b[0mas_text\u001b[0m\u001b[1;33m(\u001b[0m\u001b[0mc_api\u001b[0m\u001b[1;33m.\u001b[0m\u001b[0mTF_Message\u001b[0m\u001b[1;33m(\u001b[0m\u001b[0mself\u001b[0m\u001b[1;33m.\u001b[0m\u001b[0mstatus\u001b[0m\u001b[1;33m.\u001b[0m\u001b[0mstatus\u001b[0m\u001b[1;33m)\u001b[0m\u001b[1;33m)\u001b[0m\u001b[1;33m,\u001b[0m\u001b[1;33m\u001b[0m\u001b[1;33m\u001b[0m\u001b[0m\n\u001b[1;32m--> 528\u001b[1;33m             c_api.TF_GetCode(self.status.status))\n\u001b[0m\u001b[0;32m    529\u001b[0m     \u001b[1;31m# Delete the underlying status object from memory otherwise it stays alive\u001b[0m\u001b[1;33m\u001b[0m\u001b[1;33m\u001b[0m\u001b[1;33m\u001b[0m\u001b[0m\n\u001b[0;32m    530\u001b[0m     \u001b[1;31m# as there is a reference to status from this from the traceback due to\u001b[0m\u001b[1;33m\u001b[0m\u001b[1;33m\u001b[0m\u001b[1;33m\u001b[0m\u001b[0m\n",
      "\u001b[1;31mUnknownError\u001b[0m: NewRandomAccessFile failed to Create/Open: ./data/flickr30k-images/. : Access is denied.\r\n; Input/output error"
     ]
    }
   ],
   "source": [
    "num_batches = int(len(all_img_names) / batch_size)\n",
    "if len(all_img_names) % batch_size != 0:\n",
    "    num_batches += 1\n",
    "    \n",
    "with tf.Session() as sess:\n",
    "    # 使用倒数第二层的特征\n",
    "    second_to_last_tensor = sess.graph.get_tensor_by_name('pool_3:0')\n",
    "    for i in range(num_batches):\n",
    "        batch_img_names = list(all_img_names)[i*batch_size : (i+1)*batch_size]\n",
    "        batch_features = []\n",
    "        for img_name in batch_img_names:\n",
    "            img_path = os.path.join(input_img_dir, img_name)\n",
    "            logging.info('processing img %s' % img_name)\n",
    "            if not gfile.Exists(img_path):\n",
    "                continue\n",
    "            print(img_path)\n",
    "            img_data = gfile.GFile(img_path, 'rb').read()\n",
    "            feature_vector = sess.run(second_to_last_tensor, \n",
    "                                     feed_dict = {\n",
    "                                         \"DecodeJpeg/contents:0\": img_data\n",
    "                                     })\n",
    "            batch_features.append(feature_vector)\n",
    "        batch_features = np.vstack(batch_features)\n",
    "        output_filename = os.path.join(output_folder, \"image_features_%d.pickle\" % i)\n",
    "        logging.info('writing to file %s' % output_filename)\n",
    "        with gfile.GFile(output_filename, 'w') as f:\n",
    "            cPickle.dump((batch_img_names, batch_features), f)\n",
    "            "
   ]
  },
  {
   "cell_type": "code",
   "execution_count": null,
   "metadata": {},
   "outputs": [],
   "source": []
  }
 ],
 "metadata": {
  "kernelspec": {
   "display_name": "Python 3",
   "language": "python",
   "name": "python3"
  },
  "language_info": {
   "codemirror_mode": {
    "name": "ipython",
    "version": 3
   },
   "file_extension": ".py",
   "mimetype": "text/x-python",
   "name": "python",
   "nbconvert_exporter": "python",
   "pygments_lexer": "ipython3",
   "version": "3.7.3"
  }
 },
 "nbformat": 4,
 "nbformat_minor": 2
}
